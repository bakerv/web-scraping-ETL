{
 "cells": [
  {
   "cell_type": "code",
   "execution_count": 93,
   "id": "d6dfefb6-a8d4-4868-b6c0-c387d6c67cca",
   "metadata": {},
   "outputs": [],
   "source": [
    "import pandas as pd\n",
    "from bs4 import BeautifulSoup as bs\n",
    "import requests\n",
    "from splinter import Browser\n",
    "import pymongo\n",
    "from pprint import pprint"
   ]
  },
  {
   "cell_type": "code",
   "execution_count": 94,
   "id": "dab27a02-bcd8-41be-9f2a-0b9b72900ee1",
   "metadata": {},
   "outputs": [],
   "source": [
    "#urls to scrape\n",
    "nasamarsurl = \"https://mars.nasa.gov/news/\"\n",
    "nasajplurl = \"https://www.jpl.nasa.gov/spaceimages/?search=&category=Mars\"\n",
    "sfurl = \"https://space-facts.com/mars/\"\n",
    "usgsurgl = \"https://astrogeology.usgs.gov/search/results?q=hemisphere+enhanced&k1=target&v1=Mars\"\n",
    "\n",
    "# connect to the web with splinter\n",
    "driverpath = {'executable_path':'Resources/chromedriver.exe'}\n",
    "\n",
    "#connect to mongodb\n",
    "conn = 'mongodb://localhost:27017'\n",
    "client = pymongo.MongoClient(conn)\n",
    "\n",
    "#database paths\n",
    "nasamars_collection = client.mission_to_mars.nasamars\n",
    "jplimages_collection = client.mission_to_mars.jplimages\n"
   ]
  },
  {
   "cell_type": "code",
   "execution_count": 115,
   "id": "fd154c15-9831-4e45-9b6d-60f6e36d24b5",
   "metadata": {},
   "outputs": [],
   "source": [
    "def nasamars_scraper(scrapeurl,collection):\n",
    "    ''''''\n",
    "    #scrape NASA Mars News articles\n",
    "    def pull_data(scrapeurl):\n",
    "       \n",
    "        browser = Browser('chrome',**driverpath, headless=False)\n",
    "        browser.visit(scrapeurl)\n",
    "        rawdata = browser.html\n",
    "        browser.quit()\n",
    "        \n",
    "        return rawdata\n",
    "    \n",
    "    def clean_data(rawdata,collection):\n",
    "        # clear database to prevent duplicate entries\n",
    "        collection.drop()\n",
    "\n",
    "        #parse the sites html code into a searchable list\n",
    "        soup = bs(rawdata, 'html.parser')\n",
    "\n",
    "        # put the html structure for each article into a list\n",
    "        content = (soup\n",
    "                    .find('section', class_='grid_gallery module list_view')\n",
    "                    .find_all('div', class_= 'list_text'))\n",
    "\n",
    "        for entry in content:\n",
    "        # iterate through the list and return desired attributes for each article\n",
    "            try:\n",
    "                #extract desired attributes\n",
    "                title = (entry.find('a').text)\n",
    "                summary = (entry.find('div', class_= 'article_teaser_body').text)\n",
    "                date = (entry.find('div', class_ = 'list_date').text)\n",
    "                url = entry.find('a','href')\n",
    "\n",
    "                #save to mongoDB\n",
    "                document = {\n",
    "                    'title': title,\n",
    "                    'summary': summary,\n",
    "                    'date': date,\n",
    "                    'url': url\n",
    "                }\n",
    "                #print(f\"Saved Article: {document['title']}\")\n",
    "                collection.insert_one(document)\n",
    "\n",
    "            except Exception as error:\n",
    "                print(error)\n",
    "                \n",
    "    rawdata = pull_data(scrapeurl)\n",
    "    return clean_data(rawdata,collection)"
   ]
  },
  {
   "cell_type": "code",
   "execution_count": 116,
   "id": "8254259b-fd4a-43da-bd4f-73b0a611bd5e",
   "metadata": {},
   "outputs": [
    {
     "name": "stdout",
     "output_type": "stream",
     "text": [
      "Saved Article: NASA's Perseverance Rover Begins Its First Science Campaign on Mars\n",
      "Saved Article: NASA's InSight Mars Lander Gets a Power Boost\n",
      "Saved Article: NASA's Curiosity Rover Captures Shining Clouds on Mars\n",
      "Saved Article: Life Goals: NASA Software Unlocks Martian Rover Productivity\n",
      "Saved Article: Salts Could Be Important Piece of Martian Organic Puzzle\n",
      "Saved Article: Seeing NASA's Ingenuity Mars Helicopter Fly in 3D\n",
      "Saved Article: Perseverance's Robotic Arm Starts Conducting Science\n",
      "Saved Article: NASA's Ingenuity Mars Helicopter Completes First One-Way Trip  \n",
      "Saved Article: NASA's Perseverance Captures Video, Audio of Fourth Ingenuity Flight\n",
      "Saved Article: NASA's Ingenuity Helicopter to Begin New Demonstration Phase\n",
      "Saved Article: NASA Sets Briefing to Discuss Ingenuity Mars Helicopter Next Steps\n",
      "Saved Article: With Goals Met, NASA to Push Envelope With Ingenuity Mars Helicopter\n",
      "Saved Article: NASA's Ingenuity Mars Helicopter Flies Faster, Farther on Third Flight\n",
      "Saved Article: NASA's Ingenuity Mars Helicopter Logs Second Successful Flight\n",
      "Saved Article: NASA's Perseverance Mars Rover Extracts First Oxygen From Red Planet\n",
      "Saved Article: NASA's Ingenuity Mars Helicopter Succeeds in Historic First Flight\n",
      "Saved Article: NASA to Attempt First Controlled Flight on Mars As Soon As Monday\n",
      "Saved Article: NASA's Mars Helicopter to Make First Flight Attempt\n",
      "Saved Article: Webinars--Taking Flight: How Girls Can Grow up to Be Engineers \n",
      "Saved Article: Say Cheese on Mars: Perseverance's Selfie With Ingenuity\n",
      "Saved Article: NASA's Odyssey Orbiter Marks 20 Historic Years of Mapping Mars \n",
      "Saved Article: NASA Invites Public to Take Flight With Ingenuity Mars Helicopter \n",
      "Saved Article: NASA's First Weather Report From Jezero Crater on Mars\n",
      "Saved Article: NASA's Curiosity Team Names Martian Hill That Serves as Mission ‘Gateway'\n",
      "Saved Article: NASA's Mars Helicopter Survives First Cold Martian Night on Its Own\n",
      "Saved Article: NASA's InSight Detects Two Sizable Quakes on Mars\n",
      "Saved Article: Sensors Collect Crucial Data on Mars Landings With Arrival of Perseverance \n",
      "Saved Article: NASA's Curiosity Mars Rover Takes Selfie With 'Mont Mercou'\n",
      "Saved Article: NASA Ingenuity Mars Helicopter Prepares for First Flight\n",
      "Saved Article: Another First: Perseverance Captures the Sounds of Driving on Mars\n",
      "Saved Article: NASA to Host Briefing to Preview First Mars Helicopter Flights\n",
      "Saved Article: New Study Challenges Long-Held Theory of Fate of Mars' Water\n",
      "Saved Article: NASA's Perseverance Mars Rover Mission Honors Navajo Language\n",
      "Saved Article: Perseverance Rover's SuperCam Science Instrument Delivers First Results\n",
      "Saved Article: NASA's Perseverance Drives on Mars' Terrain for First Time\n",
      "Saved Article: Media Telecon Materials - March 5, 2021\n",
      "Saved Article: NASA Awards Mars Ascent Propulsion System Contract for Sample Return\n",
      "Saved Article: NASA to Provide Update on Perseverance ‘Firsts' Since Mars Landing \n",
      "Saved Article: Testing Proves Its Worth With Successful Mars Parachute Deployment\n",
      "Saved Article: NASA's Perseverance Rover Gives High-Definition Panoramic View of Landing Site\n"
     ]
    }
   ],
   "source": [
    "nasamars_scraper(nasamarsurl,nasamars_collection)"
   ]
  },
  {
   "cell_type": "code",
   "execution_count": 56,
   "id": "4d39a502-7ebb-4e38-9d9d-d6f93400baf8",
   "metadata": {},
   "outputs": [
    {
     "data": {
      "text/plain": [
       "{\"dict_keys(['seven', 'nine'])\": {'seven': 23, 'nine': 94}}"
      ]
     },
     "execution_count": 56,
     "metadata": {},
     "output_type": "execute_result"
    }
   ],
   "source": [
    "test = {'seven':1+22,'nine':93+1}\n",
    "\n",
    "test\n",
    "document = {f'{test.keys()}':test}\n",
    "document\n",
    "\n",
    "#for blah, value in test.items():\n",
    "  #  print(f'Key:{blah} Value:{value}')"
   ]
  },
  {
   "cell_type": "code",
   "execution_count": null,
   "id": "90f1ffe3-d325-4793-9340-e31118922282",
   "metadata": {},
   "outputs": [],
   "source": [
    "test = {'k1':\"v1\",\"k2\":\"v2\"}\n",
    "\n",
    "attributes\n",
    "document = {f'{attributes.key()}':attributes.value()}\n",
    "document"
   ]
  }
 ],
 "metadata": {
  "kernelspec": {
   "display_name": "Python 3",
   "language": "python",
   "name": "python3"
  },
  "language_info": {
   "codemirror_mode": {
    "name": "ipython",
    "version": 3
   },
   "file_extension": ".py",
   "mimetype": "text/x-python",
   "name": "python",
   "nbconvert_exporter": "python",
   "pygments_lexer": "ipython3",
   "version": "3.8.8"
  }
 },
 "nbformat": 4,
 "nbformat_minor": 5
}
